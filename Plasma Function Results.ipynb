{
 "cells": [
  {
   "cell_type": "code",
   "execution_count": 29,
   "metadata": {},
   "outputs": [],
   "source": [
    "import numpy as np\n",
    "import matplotlib.pyplot as plt"
   ]
  },
  {
   "cell_type": "markdown",
   "metadata": {},
   "source": [
    "---"
   ]
  },
  {
   "cell_type": "code",
   "execution_count": 30,
   "metadata": {},
   "outputs": [],
   "source": [
    "def plasmaFunc(arg, intervals_eps = 1e-3):\n",
    "    import numpy as np\n",
    "    \n",
    "    sign = np.sign(arg)\n",
    "    abs_arg = np.abs(arg)\n",
    "    \n",
    "    def func(x, singularity):\n",
    "        if x == singularity:\n",
    "            return 2 * singularity * np.e**(-singularity**2)\n",
    "        else:\n",
    "            return (np.e**(-x**2) - np.e**(-singularity**2)) / (x - singularity)\n",
    "    \n",
    "    if abs_arg > np.e:\n",
    "        b = np.sqrt(np.log(1 / intervals_eps))\n",
    "        a = -np.sqrt(np.log(1 / intervals_eps))\n",
    "        n = 2**(np.log10(1 / intervals_eps))\n",
    "    else:\n",
    "        b = 1 / intervals_eps\n",
    "        a = -1 / intervals_eps\n",
    "        n = np.e / intervals_eps\n",
    "\n",
    "    step = (b - a) / n\n",
    "    points = np.arange(a + step / 2, b, step)\n",
    "    I = step * np.sum([func(point, abs_arg) for point in points])\n",
    "    \n",
    "    return sign * I / (np.sqrt(np.pi))"
   ]
  },
  {
   "cell_type": "code",
   "execution_count": 31,
   "metadata": {},
   "outputs": [
    {
     "data": {
      "image/png": "[encoded data removed]",
      "text/plain": [
       "<Figure size 864x576 with 1 Axes>"
      ]
     },
     "metadata": {
      "needs_background": "light"
     },
     "output_type": "display_data"
    }
   ],
   "source": [
    "xlin = np.linspace(-20, 20, 1000)\n",
    "y = [plasmaFunc(i) for i in xlin]\n",
    "\n",
    "plt.figure(figsize=(12,8))\n",
    "plt.plot(xlin, y)\n",
    "plt.show()"
   ]
  },
  {
   "cell_type": "markdown",
   "metadata": {},
   "source": [
    "---"
   ]
  },
  {
   "cell_type": "markdown",
   "metadata": {},
   "source": [
    "To evaluate the accuracy of the composed function Newton's iteration method will be used:"
   ]
  },
  {
   "cell_type": "code",
   "execution_count": 32,
   "metadata": {},
   "outputs": [],
   "source": [
    "def newton_iteration(f, x0, args = [], alpha = 1, eps=1e-5, maxiter=1000):\n",
    "    x_n = x0\n",
    "    temp = x0\n",
    "    i = 0\n",
    "    while i == 0 or ((i < maxiter) & (abs(x_n - temp) >= eps)):\n",
    "        deriv = (f(x_n + eps, *args) - f(x_n, *args)) / eps\n",
    "        temp = x_n\n",
    "        if deriv == 0:\n",
    "            raise ValueError(\"The derivative equals zero at the point x = %s, change the starting point! The number of iterations: %i\" % (x_n, i))\n",
    "        \n",
    "        x_n  -= alpha * f(x_n, *args) / deriv\n",
    "        i += 1\n",
    "        \n",
    "    return x_n, i"
   ]
  },
  {
   "cell_type": "markdown",
   "metadata": {},
   "source": [
    "---"
   ]
  },
  {
   "cell_type": "markdown",
   "metadata": {},
   "source": [
    "Using an approximation of $a \\to 0$ to evaluate the accuracy of computations:"
   ]
  },
  {
   "cell_type": "code",
   "execution_count": 33,
   "metadata": {},
   "outputs": [],
   "source": [
    "a = 1e-12\n",
    "b = 3 * 1e-1 # (omega_pe)^2 / (kc)^2\n",
    "c = 14 * 1e-5 # |omega_ce| / (kc)\n",
    "\n",
    "equation = lambda N: N**2 * (1 - b * plasmaFunc((1 - N * c) / (N * a)) / (N * a)) - 1 # = 0, full equation\n",
    "approximation = (1 + b) / c"
   ]
  },
  {
   "cell_type": "code",
   "execution_count": 34,
   "metadata": {},
   "outputs": [
    {
     "name": "stdout",
     "output_type": "stream",
     "text": [
      "Real extremum:  9285.457289947464 \n",
      "Approximation:  9285.714285714284\n"
     ]
    }
   ],
   "source": [
    "extremum = newton_iteration(equation, approximation)\n",
    "delta = np.abs(extremum[0] - approximation)\n",
    "\n",
    "print('Real extremum: ', extremum[0], '\\nApproximation: ', approximation)\n",
    "\n",
    "xlin = np.linspace(approximation - 2 * delta, approximation + 2 * delta, 1000)\n",
    "ylin = [equation(i) for i in xlin]"
   ]
  },
  {
   "cell_type": "markdown",
   "metadata": {},
   "source": [
    "---"
   ]
  },
  {
   "cell_type": "markdown",
   "metadata": {},
   "source": [
    "Using an approximation of $a \\to \\infty$ to evaluate the accuracy of computations:"
   ]
  },
  {
   "cell_type": "code",
   "execution_count": 155,
   "metadata": {},
   "outputs": [],
   "source": [
    "a = 1e12\n",
    "b = 3 * 1e-1 # (omega_pe)^2 / (kc)^2\n",
    "c = 14 * 1e-5 # |omega_ce| / (kc)\n",
    "\n",
    "equation = lambda N: N**2 * (1 - b * plasmaFunc((1 - N * c) / (N * a)) / (N * a)) - 1 # = 0, full equation\n",
    "approximation = 1"
   ]
  },
  {
   "cell_type": "code",
   "execution_count": 156,
   "metadata": {},
   "outputs": [
    {
     "name": "stdout",
     "output_type": "stream",
     "text": [
      "Real extremum:  1.0 \n",
      "Approximation:  1\n"
     ]
    }
   ],
   "source": [
    "extremum = newton_iteration(equation, approximation)\n",
    "delta = np.abs(extremum[0] - approximation)\n",
    "\n",
    "print('Real extremum: ', extremum[0], '\\nApproximation: ', approximation)\n",
    "\n",
    "xlin = np.linspace(approximation - 2 * delta, approximation + 2 * delta, 1000)\n",
    "ylin = [equation(i) for i in xlin]"
   ]
  },
  {
   "cell_type": "markdown",
   "metadata": {},
   "source": [
    "---"
   ]
  },
  {
   "cell_type": "markdown",
   "metadata": {},
   "source": [
    "An equation for a derivative of the plasma function: $Z'(\\xi)=-2(1 + \\xi Z(\\xi))$\n",
    "The accuracy can be evaluated by finding the extremum of plasma function using the formula and usual computation method:"
   ]
  },
  {
   "cell_type": "code",
   "execution_count": 157,
   "metadata": {},
   "outputs": [
    {
     "name": "stdout",
     "output_type": "stream",
     "text": [
      "Formula:        0.9241740419960427 \n",
      "Approximation:  0.9240924092409241\n"
     ]
    }
   ],
   "source": [
    "eps = 1e-4\n",
    "\n",
    "plasmaFuncDer = lambda x: -2 * (1 + x * plasmaFunc(x, eps))\n",
    "\n",
    "extremum = newton_iteration(plasmaFuncDer, 1, eps=eps)\n",
    "xlin = np.linspace(0, 30, int(1 / eps))\n",
    "ylin = [plasmaFunc(i, eps) for i in xlin]\n",
    "approximation = xlin[np.argmin(ylin)]\n",
    "\n",
    "print('Formula:       ', extremum[0], '\\nApproximation: ', approximation)"
   ]
  }
 ],
 "metadata": {
  "kernelspec": {
   "display_name": "Python 3",
   "language": "python",
   "name": "python3"
  },
  "language_info": {
   "codemirror_mode": {
    "name": "ipython",
    "version": 3
   },
   "file_extension": ".py",
   "mimetype": "text/x-python",
   "name": "python",
   "nbconvert_exporter": "python",
   "pygments_lexer": "ipython3",
   "version": "3.8.5"
  }
 },
 "nbformat": 4,
 "nbformat_minor": 4
}
